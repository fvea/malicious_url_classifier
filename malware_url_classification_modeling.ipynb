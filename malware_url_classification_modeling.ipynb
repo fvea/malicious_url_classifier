{
  "nbformat": 4,
  "nbformat_minor": 0,
  "metadata": {
    "colab": {
      "name": "malware_url_classification_modeling.ipynb",
      "provenance": [],
      "collapsed_sections": []
    },
    "kernelspec": {
      "name": "python3",
      "display_name": "Python 3"
    },
    "language_info": {
      "name": "python"
    }
  },
  "cells": [
    {
      "cell_type": "code",
      "source": [
        "import pandas as pd\n",
        "import numpy as np"
      ],
      "metadata": {
        "id": "W3sh-kxP4KcC"
      },
      "execution_count": 26,
      "outputs": []
    },
    {
      "cell_type": "code",
      "source": [
        "WDIR = \"/content/drive/MyDrive/projects/classical_machine_learning/malware_url_classification\"\n",
        "\n",
        "benign_df = pd.read_csv(f\"{WDIR}/dataset/benign.csv\", header=None, names=[\"URLs\"])\n",
        "malware_df = pd.read_csv(f\"{WDIR}/dataset/malware.csv\", header=None, names=[\"URLs\"])"
      ],
      "metadata": {
        "id": "vPxLY0S64xMM"
      },
      "execution_count": 27,
      "outputs": []
    },
    {
      "cell_type": "code",
      "source": [
        "print(\"malware_df.shape: {} \".format(malware_df.shape))\n",
        "print(\"benign_df.shape: {}\".format(benign_df.shape))"
      ],
      "metadata": {
        "id": "CduQ1kRL5e2K",
        "colab": {
          "base_uri": "https://localhost:8080/"
        },
        "outputId": "71fe74e6-ef4a-41a1-acce-32873eb942fd"
      },
      "execution_count": 28,
      "outputs": [
        {
          "output_type": "stream",
          "name": "stdout",
          "text": [
            "malware_df.shape: (11566, 1) \n",
            "benign_df.shape: (35378, 1)\n"
          ]
        }
      ]
    },
    {
      "cell_type": "code",
      "source": [
        "# malware URLs dataset\n",
        "malware_df.head()"
      ],
      "metadata": {
        "id": "2LNFnqV57OWA",
        "colab": {
          "base_uri": "https://localhost:8080/",
          "height": 206
        },
        "outputId": "3eab567d-40b3-4210-9bc5-669f4791bfa6"
      },
      "execution_count": 29,
      "outputs": [
        {
          "output_type": "execute_result",
          "data": {
            "text/plain": [
              "                                                URLs\n",
              "0  http://gzzax.livechatvalue.com/chat/chatClient...\n",
              "1  http://gzzax.livechatvalue.com/chat/chatClient...\n",
              "2  http://gzzax.livechatvalue.com/chat/chatClient...\n",
              "3  http://gzzax.livechatvalue.com/chat/chatClient...\n",
              "4  http://mtsx.com.cn/UploadFiles/2011-08/admin/%..."
            ],
            "text/html": [
              "\n",
              "  <div id=\"df-405b2be8-171e-4ff6-9df9-36e112b3e813\">\n",
              "    <div class=\"colab-df-container\">\n",
              "      <div>\n",
              "<style scoped>\n",
              "    .dataframe tbody tr th:only-of-type {\n",
              "        vertical-align: middle;\n",
              "    }\n",
              "\n",
              "    .dataframe tbody tr th {\n",
              "        vertical-align: top;\n",
              "    }\n",
              "\n",
              "    .dataframe thead th {\n",
              "        text-align: right;\n",
              "    }\n",
              "</style>\n",
              "<table border=\"1\" class=\"dataframe\">\n",
              "  <thead>\n",
              "    <tr style=\"text-align: right;\">\n",
              "      <th></th>\n",
              "      <th>URLs</th>\n",
              "    </tr>\n",
              "  </thead>\n",
              "  <tbody>\n",
              "    <tr>\n",
              "      <th>0</th>\n",
              "      <td>http://gzzax.livechatvalue.com/chat/chatClient...</td>\n",
              "    </tr>\n",
              "    <tr>\n",
              "      <th>1</th>\n",
              "      <td>http://gzzax.livechatvalue.com/chat/chatClient...</td>\n",
              "    </tr>\n",
              "    <tr>\n",
              "      <th>2</th>\n",
              "      <td>http://gzzax.livechatvalue.com/chat/chatClient...</td>\n",
              "    </tr>\n",
              "    <tr>\n",
              "      <th>3</th>\n",
              "      <td>http://gzzax.livechatvalue.com/chat/chatClient...</td>\n",
              "    </tr>\n",
              "    <tr>\n",
              "      <th>4</th>\n",
              "      <td>http://mtsx.com.cn/UploadFiles/2011-08/admin/%...</td>\n",
              "    </tr>\n",
              "  </tbody>\n",
              "</table>\n",
              "</div>\n",
              "      <button class=\"colab-df-convert\" onclick=\"convertToInteractive('df-405b2be8-171e-4ff6-9df9-36e112b3e813')\"\n",
              "              title=\"Convert this dataframe to an interactive table.\"\n",
              "              style=\"display:none;\">\n",
              "        \n",
              "  <svg xmlns=\"http://www.w3.org/2000/svg\" height=\"24px\"viewBox=\"0 0 24 24\"\n",
              "       width=\"24px\">\n",
              "    <path d=\"M0 0h24v24H0V0z\" fill=\"none\"/>\n",
              "    <path d=\"M18.56 5.44l.94 2.06.94-2.06 2.06-.94-2.06-.94-.94-2.06-.94 2.06-2.06.94zm-11 1L8.5 8.5l.94-2.06 2.06-.94-2.06-.94L8.5 2.5l-.94 2.06-2.06.94zm10 10l.94 2.06.94-2.06 2.06-.94-2.06-.94-.94-2.06-.94 2.06-2.06.94z\"/><path d=\"M17.41 7.96l-1.37-1.37c-.4-.4-.92-.59-1.43-.59-.52 0-1.04.2-1.43.59L10.3 9.45l-7.72 7.72c-.78.78-.78 2.05 0 2.83L4 21.41c.39.39.9.59 1.41.59.51 0 1.02-.2 1.41-.59l7.78-7.78 2.81-2.81c.8-.78.8-2.07 0-2.86zM5.41 20L4 18.59l7.72-7.72 1.47 1.35L5.41 20z\"/>\n",
              "  </svg>\n",
              "      </button>\n",
              "      \n",
              "  <style>\n",
              "    .colab-df-container {\n",
              "      display:flex;\n",
              "      flex-wrap:wrap;\n",
              "      gap: 12px;\n",
              "    }\n",
              "\n",
              "    .colab-df-convert {\n",
              "      background-color: #E8F0FE;\n",
              "      border: none;\n",
              "      border-radius: 50%;\n",
              "      cursor: pointer;\n",
              "      display: none;\n",
              "      fill: #1967D2;\n",
              "      height: 32px;\n",
              "      padding: 0 0 0 0;\n",
              "      width: 32px;\n",
              "    }\n",
              "\n",
              "    .colab-df-convert:hover {\n",
              "      background-color: #E2EBFA;\n",
              "      box-shadow: 0px 1px 2px rgba(60, 64, 67, 0.3), 0px 1px 3px 1px rgba(60, 64, 67, 0.15);\n",
              "      fill: #174EA6;\n",
              "    }\n",
              "\n",
              "    [theme=dark] .colab-df-convert {\n",
              "      background-color: #3B4455;\n",
              "      fill: #D2E3FC;\n",
              "    }\n",
              "\n",
              "    [theme=dark] .colab-df-convert:hover {\n",
              "      background-color: #434B5C;\n",
              "      box-shadow: 0px 1px 3px 1px rgba(0, 0, 0, 0.15);\n",
              "      filter: drop-shadow(0px 1px 2px rgba(0, 0, 0, 0.3));\n",
              "      fill: #FFFFFF;\n",
              "    }\n",
              "  </style>\n",
              "\n",
              "      <script>\n",
              "        const buttonEl =\n",
              "          document.querySelector('#df-405b2be8-171e-4ff6-9df9-36e112b3e813 button.colab-df-convert');\n",
              "        buttonEl.style.display =\n",
              "          google.colab.kernel.accessAllowed ? 'block' : 'none';\n",
              "\n",
              "        async function convertToInteractive(key) {\n",
              "          const element = document.querySelector('#df-405b2be8-171e-4ff6-9df9-36e112b3e813');\n",
              "          const dataTable =\n",
              "            await google.colab.kernel.invokeFunction('convertToInteractive',\n",
              "                                                     [key], {});\n",
              "          if (!dataTable) return;\n",
              "\n",
              "          const docLinkHtml = 'Like what you see? Visit the ' +\n",
              "            '<a target=\"_blank\" href=https://colab.research.google.com/notebooks/data_table.ipynb>data table notebook</a>'\n",
              "            + ' to learn more about interactive tables.';\n",
              "          element.innerHTML = '';\n",
              "          dataTable['output_type'] = 'display_data';\n",
              "          await google.colab.output.renderOutput(dataTable, element);\n",
              "          const docLink = document.createElement('div');\n",
              "          docLink.innerHTML = docLinkHtml;\n",
              "          element.appendChild(docLink);\n",
              "        }\n",
              "      </script>\n",
              "    </div>\n",
              "  </div>\n",
              "  "
            ]
          },
          "metadata": {},
          "execution_count": 29
        }
      ]
    },
    {
      "cell_type": "code",
      "source": [
        "# benign URLs dataset\n",
        "benign_df.head()"
      ],
      "metadata": {
        "colab": {
          "base_uri": "https://localhost:8080/",
          "height": 206
        },
        "id": "3DvUZHOu7P0X",
        "outputId": "a4b3aac1-ad60-4b5c-fcdb-a5f1f7605c6b"
      },
      "execution_count": 30,
      "outputs": [
        {
          "output_type": "execute_result",
          "data": {
            "text/plain": [
              "                                                URLs\n",
              "0  http://1337x.to/torrent/1048648/American-Snipe...\n",
              "1  http://1337x.to/torrent/1110018/Blackhat-2015-...\n",
              "2  http://1337x.to/torrent/1122940/Blackhat-2015-...\n",
              "3  http://1337x.to/torrent/1124395/Fast-and-Furio...\n",
              "4  http://1337x.to/torrent/1145504/Avengers-Age-o..."
            ],
            "text/html": [
              "\n",
              "  <div id=\"df-b3e46577-f9af-423d-8156-ccdf03cade96\">\n",
              "    <div class=\"colab-df-container\">\n",
              "      <div>\n",
              "<style scoped>\n",
              "    .dataframe tbody tr th:only-of-type {\n",
              "        vertical-align: middle;\n",
              "    }\n",
              "\n",
              "    .dataframe tbody tr th {\n",
              "        vertical-align: top;\n",
              "    }\n",
              "\n",
              "    .dataframe thead th {\n",
              "        text-align: right;\n",
              "    }\n",
              "</style>\n",
              "<table border=\"1\" class=\"dataframe\">\n",
              "  <thead>\n",
              "    <tr style=\"text-align: right;\">\n",
              "      <th></th>\n",
              "      <th>URLs</th>\n",
              "    </tr>\n",
              "  </thead>\n",
              "  <tbody>\n",
              "    <tr>\n",
              "      <th>0</th>\n",
              "      <td>http://1337x.to/torrent/1048648/American-Snipe...</td>\n",
              "    </tr>\n",
              "    <tr>\n",
              "      <th>1</th>\n",
              "      <td>http://1337x.to/torrent/1110018/Blackhat-2015-...</td>\n",
              "    </tr>\n",
              "    <tr>\n",
              "      <th>2</th>\n",
              "      <td>http://1337x.to/torrent/1122940/Blackhat-2015-...</td>\n",
              "    </tr>\n",
              "    <tr>\n",
              "      <th>3</th>\n",
              "      <td>http://1337x.to/torrent/1124395/Fast-and-Furio...</td>\n",
              "    </tr>\n",
              "    <tr>\n",
              "      <th>4</th>\n",
              "      <td>http://1337x.to/torrent/1145504/Avengers-Age-o...</td>\n",
              "    </tr>\n",
              "  </tbody>\n",
              "</table>\n",
              "</div>\n",
              "      <button class=\"colab-df-convert\" onclick=\"convertToInteractive('df-b3e46577-f9af-423d-8156-ccdf03cade96')\"\n",
              "              title=\"Convert this dataframe to an interactive table.\"\n",
              "              style=\"display:none;\">\n",
              "        \n",
              "  <svg xmlns=\"http://www.w3.org/2000/svg\" height=\"24px\"viewBox=\"0 0 24 24\"\n",
              "       width=\"24px\">\n",
              "    <path d=\"M0 0h24v24H0V0z\" fill=\"none\"/>\n",
              "    <path d=\"M18.56 5.44l.94 2.06.94-2.06 2.06-.94-2.06-.94-.94-2.06-.94 2.06-2.06.94zm-11 1L8.5 8.5l.94-2.06 2.06-.94-2.06-.94L8.5 2.5l-.94 2.06-2.06.94zm10 10l.94 2.06.94-2.06 2.06-.94-2.06-.94-.94-2.06-.94 2.06-2.06.94z\"/><path d=\"M17.41 7.96l-1.37-1.37c-.4-.4-.92-.59-1.43-.59-.52 0-1.04.2-1.43.59L10.3 9.45l-7.72 7.72c-.78.78-.78 2.05 0 2.83L4 21.41c.39.39.9.59 1.41.59.51 0 1.02-.2 1.41-.59l7.78-7.78 2.81-2.81c.8-.78.8-2.07 0-2.86zM5.41 20L4 18.59l7.72-7.72 1.47 1.35L5.41 20z\"/>\n",
              "  </svg>\n",
              "      </button>\n",
              "      \n",
              "  <style>\n",
              "    .colab-df-container {\n",
              "      display:flex;\n",
              "      flex-wrap:wrap;\n",
              "      gap: 12px;\n",
              "    }\n",
              "\n",
              "    .colab-df-convert {\n",
              "      background-color: #E8F0FE;\n",
              "      border: none;\n",
              "      border-radius: 50%;\n",
              "      cursor: pointer;\n",
              "      display: none;\n",
              "      fill: #1967D2;\n",
              "      height: 32px;\n",
              "      padding: 0 0 0 0;\n",
              "      width: 32px;\n",
              "    }\n",
              "\n",
              "    .colab-df-convert:hover {\n",
              "      background-color: #E2EBFA;\n",
              "      box-shadow: 0px 1px 2px rgba(60, 64, 67, 0.3), 0px 1px 3px 1px rgba(60, 64, 67, 0.15);\n",
              "      fill: #174EA6;\n",
              "    }\n",
              "\n",
              "    [theme=dark] .colab-df-convert {\n",
              "      background-color: #3B4455;\n",
              "      fill: #D2E3FC;\n",
              "    }\n",
              "\n",
              "    [theme=dark] .colab-df-convert:hover {\n",
              "      background-color: #434B5C;\n",
              "      box-shadow: 0px 1px 3px 1px rgba(0, 0, 0, 0.15);\n",
              "      filter: drop-shadow(0px 1px 2px rgba(0, 0, 0, 0.3));\n",
              "      fill: #FFFFFF;\n",
              "    }\n",
              "  </style>\n",
              "\n",
              "      <script>\n",
              "        const buttonEl =\n",
              "          document.querySelector('#df-b3e46577-f9af-423d-8156-ccdf03cade96 button.colab-df-convert');\n",
              "        buttonEl.style.display =\n",
              "          google.colab.kernel.accessAllowed ? 'block' : 'none';\n",
              "\n",
              "        async function convertToInteractive(key) {\n",
              "          const element = document.querySelector('#df-b3e46577-f9af-423d-8156-ccdf03cade96');\n",
              "          const dataTable =\n",
              "            await google.colab.kernel.invokeFunction('convertToInteractive',\n",
              "                                                     [key], {});\n",
              "          if (!dataTable) return;\n",
              "\n",
              "          const docLinkHtml = 'Like what you see? Visit the ' +\n",
              "            '<a target=\"_blank\" href=https://colab.research.google.com/notebooks/data_table.ipynb>data table notebook</a>'\n",
              "            + ' to learn more about interactive tables.';\n",
              "          element.innerHTML = '';\n",
              "          dataTable['output_type'] = 'display_data';\n",
              "          await google.colab.output.renderOutput(dataTable, element);\n",
              "          const docLink = document.createElement('div');\n",
              "          docLink.innerHTML = docLinkHtml;\n",
              "          element.appendChild(docLink);\n",
              "        }\n",
              "      </script>\n",
              "    </div>\n",
              "  </div>\n",
              "  "
            ]
          },
          "metadata": {},
          "execution_count": 30
        }
      ]
    },
    {
      "cell_type": "markdown",
      "source": [
        "## Feature Extraction"
      ],
      "metadata": {
        "id": "AkZDR7pa65FC"
      }
    },
    {
      "cell_type": "code",
      "source": [
        "# install pyquery library\n",
        "\n",
        "!pip install pyquery"
      ],
      "metadata": {
        "colab": {
          "base_uri": "https://localhost:8080/"
        },
        "id": "pYKdWSef64wN",
        "outputId": "eb78adf9-e404-4279-a1f5-a65c5f858ebd"
      },
      "execution_count": 31,
      "outputs": [
        {
          "output_type": "stream",
          "name": "stdout",
          "text": [
            "Looking in indexes: https://pypi.org/simple, https://us-python.pkg.dev/colab-wheels/public/simple/\n",
            "Requirement already satisfied: pyquery in /usr/local/lib/python3.7/dist-packages (1.4.3)\n",
            "Requirement already satisfied: cssselect>0.7.9 in /usr/local/lib/python3.7/dist-packages (from pyquery) (1.1.0)\n",
            "Requirement already satisfied: lxml>=2.1 in /usr/local/lib/python3.7/dist-packages (from pyquery) (4.2.6)\n"
          ]
        }
      ]
    },
    {
      "cell_type": "code",
      "source": [
        "# script resource: https://towardsdatascience.com/extracting-feature-vectors-from-url-strings-for-malicious-url-detection-cbafc24737a\n",
        "\n",
        "from pandas.core.arrays.numeric import T\n",
        "from math import log\n",
        "from re import compile\n",
        "from urllib.parse import urlparse\n",
        "from socket import gethostbyname\n",
        "from pyquery import PyQuery\n",
        "from requests import get\n",
        "from json import dump\n",
        "from string import ascii_lowercase\n",
        "from numpy import array, log\n",
        "from string import punctuation\n",
        "\n",
        "class LexicalURLFeature:\n",
        "    def __init__(self, url):\n",
        "        self.description = 'blah'\n",
        "        self.url = url\n",
        "        self.urlparse = urlparse(self.url)\n",
        "        # self.host = self.__get_ip()\n",
        "\n",
        "\n",
        "    def __get_entropy(self, text):\n",
        "        text = text.lower()\n",
        "        probs = [text.count(c) / len(text) for c in set(text)]\n",
        "        entropy = -sum([p * log(p) / log(2.0) for p in probs])\n",
        "        return entropy\n",
        "\n",
        "    def __get_ip(self):\n",
        "        try:\n",
        "            ip = self.urlparse.netloc if self.url_host_is_ip() else gethostbyname(self.urlparse.netloc)\n",
        "            return ip\n",
        "        except:\n",
        "            return None\n",
        "\n",
        "    # extract lexical features\n",
        "    def url_scheme(self):\n",
        "        return self.urlparse.scheme\n",
        "\n",
        "    def url_length(self):\n",
        "        return len(self.url)\n",
        "\n",
        "    def url_path_length(self):\n",
        "        return len(self.urlparse.path)\n",
        "\n",
        "    def url_host_length(self):\n",
        "        return len(self.urlparse.netloc)\n",
        "\n",
        "    def url_host_is_ip(self):\n",
        "        host = self.urlparse.netloc\n",
        "        pattern = compile(\"^\\d{1,3}\\.\\d{1,3}\\.\\d{1,3}\\.\\d{1,3}$\")\n",
        "        match = pattern.match(host)\n",
        "        return match is not None\n",
        "\n",
        "    def url_has_port_in_string(self):\n",
        "        has_port = self.urlparse.netloc.split(':')\n",
        "        return len(has_port) > 1 and has_port[-1].isdigit()\n",
        "\n",
        "    def number_of_digits(self):\n",
        "        digits = [i for i in self.url if i.isdigit()]\n",
        "        return len(digits)\n",
        "\n",
        "    def number_of_parameters(self):\n",
        "        params = self.urlparse.query\n",
        "        return 0 if params == '' else len(params.split('&'))\n",
        "\n",
        "    def number_of_fragments(self):\n",
        "        frags = self.urlparse.fragment\n",
        "        return len(frags.split('#')) - 1 if frags == '' else 0\n",
        "\n",
        "    def is_encoded(self):\n",
        "        return '%' in self.url.lower()\n",
        "\n",
        "    def num_encoded_char(self):\n",
        "        encs = [i for i in self.url if i == '%']\n",
        "        return len(encs)\n",
        "\n",
        "    def url_string_entropy(self):\n",
        "        return self.__get_entropy(self.url)\n",
        "\n",
        "    def number_of_subdirectories(self):\n",
        "        d = self.urlparse.path.split('/')\n",
        "        return len(d)\n",
        "\n",
        "    def number_of_periods(self):\n",
        "        periods = [i for i in self.url if i == '.']\n",
        "        return len(periods)\n",
        "\n",
        "    def has_client_in_string(self):\n",
        "        return 'client' in self.url.lower()\n",
        "\n",
        "    def has_admin_in_string(self):\n",
        "        return 'admin' in self.url.lower()\n",
        "\n",
        "    def has_server_in_string(self):\n",
        "        return 'server' in self.url.lower()\n",
        "\n",
        "    def has_login_in_string(self):\n",
        "        return 'login' in self.url.lower()\n",
        "        \n",
        "    def get_tld(self):\n",
        "      return self.urlparse.netloc.split('.')[-1].split(':')[0]"
      ],
      "metadata": {
        "id": "fOCedcv-6s2V"
      },
      "execution_count": 32,
      "outputs": []
    },
    {
      "cell_type": "code",
      "source": [
        "## extract lexical features for benign and malware dataframes\n",
        "\n",
        "def extract_lexical_features(df):\n",
        "  samples = list()\n",
        "  for url in df.values:\n",
        "    sample = dict()\n",
        "    feature_extractor = LexicalURLFeature(url[-1])\n",
        "    sample[\"url\"] = url\n",
        "    sample[\"url_scheme\"] = feature_extractor.url_scheme()\n",
        "    sample[\"url_length\"] = feature_extractor.url_length()\n",
        "    sample[\"url_path_length\"] = feature_extractor.url_path_length()\n",
        "    sample[\"url_host_length\"] = feature_extractor.url_host_length()\n",
        "    sample[\"url_host_is_ip\"] = feature_extractor.url_host_is_ip()\n",
        "    sample[\"url_has_port_in_string\"] = feature_extractor.url_has_port_in_string()\n",
        "    sample[\"number_of_digits\"] = feature_extractor.number_of_digits()\n",
        "    sample[\"number_of_parameters\"] = feature_extractor.number_of_parameters()\n",
        "    sample[\"number_of_fragments\"] = feature_extractor.number_of_fragments()\n",
        "    sample[\"is_encoded\"] = feature_extractor.is_encoded()\n",
        "    sample[\"num_encoded_char\"] = feature_extractor.num_encoded_char()\n",
        "    sample[\"url_string_entropy\"] = feature_extractor.url_string_entropy()\n",
        "    sample[\"number_of_subdirectories\"] = feature_extractor.number_of_subdirectories()\n",
        "    sample[\"number_of_periods\"] = feature_extractor.number_of_periods()\n",
        "    sample[\"has_client_in_string\"] = feature_extractor.has_client_in_string()\n",
        "    sample[\"has_admin_in_string\"] = feature_extractor.has_admin_in_string()\n",
        "    sample[\"has_server_in_string\"] = feature_extractor.has_server_in_string()\n",
        "    sample[\"has_login_in_string\"] = feature_extractor.has_login_in_string()\n",
        "    sample[\"tld\"] = feature_extractor.get_tld()\n",
        "    samples.append(sample)\n",
        "  return pd.DataFrame(samples)\n",
        "\n",
        "# benign URLs lexical extracted features\n",
        "b_lexical_features = extract_lexical_features(benign_df)\n",
        "\n",
        "# malware URLs extracted lexical features\n",
        "m_lexical_features = extract_lexical_features(malware_df)"
      ],
      "metadata": {
        "id": "mI9pQjzq7Ban"
      },
      "execution_count": 33,
      "outputs": []
    },
    {
      "cell_type": "code",
      "source": [
        "from sklearn.utils import shuffle\n",
        "\n",
        "# assigned numerical value for each class (0 = benign; 1 = malware)\n",
        "b_lexical_features[\"class\"] = 0\n",
        "m_lexical_features[\"class\"] = 1\n",
        "\n",
        "# merged two dataframes\n",
        "df = pd.concat([b_lexical_features, m_lexical_features], axis=0)\n",
        "df = shuffle(df).reset_index(drop=True)\n",
        "print(\"(merged dataframe) df.shape: {}\".format(df.shape))"
      ],
      "metadata": {
        "id": "EetsHztkwHlv",
        "colab": {
          "base_uri": "https://localhost:8080/"
        },
        "outputId": "49e8a81e-539d-4b41-fd4f-16937df2fb4b"
      },
      "execution_count": 34,
      "outputs": [
        {
          "output_type": "stream",
          "name": "stdout",
          "text": [
            "(merged dataframe) df.shape: (46944, 21)\n"
          ]
        }
      ]
    },
    {
      "cell_type": "code",
      "source": [
        "# check first few records\n",
        "\n",
        "df.head()"
      ],
      "metadata": {
        "colab": {
          "base_uri": "https://localhost:8080/",
          "height": 300
        },
        "id": "Pega0BpOBdZA",
        "outputId": "fb26a8d0-33cb-4a04-8d17-b4fd9258ea61"
      },
      "execution_count": 35,
      "outputs": [
        {
          "output_type": "execute_result",
          "data": {
            "text/plain": [
              "                                                 url url_scheme  url_length  \\\n",
              "0  [http://yourlust.com/videos/chubby-dutch-honey...       http          93   \n",
              "1  [http://chinesevie.com/index.php?option=com_co...       http          81   \n",
              "2  [http://pantip.com/tag/%E0%B8%81%E0%B8%B2%E0%B...       http         118   \n",
              "3  [http://codecanyon.net/item/global-gallery-ove...       http          93   \n",
              "4  [http://thenextweb.com/facebook/2015/03/26/fac...       http          83   \n",
              "\n",
              "   url_path_length  url_host_length  url_host_is_ip  url_has_port_in_string  \\\n",
              "0               74               12           False                   False   \n",
              "1               10               14           False                   False   \n",
              "2              101               10           False                   False   \n",
              "3               72               14           False                   False   \n",
              "4               62               14           False                   False   \n",
              "\n",
              "   number_of_digits  number_of_parameters  number_of_fragments  ...  \\\n",
              "0                 0                     0                    0  ...   \n",
              "1                 0                     4                    0  ...   \n",
              "2                31                     0                    0  ...   \n",
              "3                 8                     0                    0  ...   \n",
              "4                14                     0                    0  ...   \n",
              "\n",
              "   num_encoded_char  url_string_entropy  number_of_subdirectories  \\\n",
              "0                 0            4.244684                         3   \n",
              "1                 0            4.400942                         2   \n",
              "2                26            3.992968                         3   \n",
              "3                 0            4.588726                         5   \n",
              "4                 0            4.681722                         7   \n",
              "\n",
              "   number_of_periods  has_client_in_string  has_admin_in_string  \\\n",
              "0                  2                 False                False   \n",
              "1                  2                 False                False   \n",
              "2                  1                 False                False   \n",
              "3                  1                 False                False   \n",
              "4                  2                 False                False   \n",
              "\n",
              "   has_server_in_string  has_login_in_string  tld class  \n",
              "0                 False                False  com     0  \n",
              "1                 False                 True  com     1  \n",
              "2                 False                False  com     0  \n",
              "3                 False                False  net     0  \n",
              "4                 False                False  com     0  \n",
              "\n",
              "[5 rows x 21 columns]"
            ],
            "text/html": [
              "\n",
              "  <div id=\"df-817f47a7-ce0d-41b7-a188-791faa08e09e\">\n",
              "    <div class=\"colab-df-container\">\n",
              "      <div>\n",
              "<style scoped>\n",
              "    .dataframe tbody tr th:only-of-type {\n",
              "        vertical-align: middle;\n",
              "    }\n",
              "\n",
              "    .dataframe tbody tr th {\n",
              "        vertical-align: top;\n",
              "    }\n",
              "\n",
              "    .dataframe thead th {\n",
              "        text-align: right;\n",
              "    }\n",
              "</style>\n",
              "<table border=\"1\" class=\"dataframe\">\n",
              "  <thead>\n",
              "    <tr style=\"text-align: right;\">\n",
              "      <th></th>\n",
              "      <th>url</th>\n",
              "      <th>url_scheme</th>\n",
              "      <th>url_length</th>\n",
              "      <th>url_path_length</th>\n",
              "      <th>url_host_length</th>\n",
              "      <th>url_host_is_ip</th>\n",
              "      <th>url_has_port_in_string</th>\n",
              "      <th>number_of_digits</th>\n",
              "      <th>number_of_parameters</th>\n",
              "      <th>number_of_fragments</th>\n",
              "      <th>...</th>\n",
              "      <th>num_encoded_char</th>\n",
              "      <th>url_string_entropy</th>\n",
              "      <th>number_of_subdirectories</th>\n",
              "      <th>number_of_periods</th>\n",
              "      <th>has_client_in_string</th>\n",
              "      <th>has_admin_in_string</th>\n",
              "      <th>has_server_in_string</th>\n",
              "      <th>has_login_in_string</th>\n",
              "      <th>tld</th>\n",
              "      <th>class</th>\n",
              "    </tr>\n",
              "  </thead>\n",
              "  <tbody>\n",
              "    <tr>\n",
              "      <th>0</th>\n",
              "      <td>[http://yourlust.com/videos/chubby-dutch-honey...</td>\n",
              "      <td>http</td>\n",
              "      <td>93</td>\n",
              "      <td>74</td>\n",
              "      <td>12</td>\n",
              "      <td>False</td>\n",
              "      <td>False</td>\n",
              "      <td>0</td>\n",
              "      <td>0</td>\n",
              "      <td>0</td>\n",
              "      <td>...</td>\n",
              "      <td>0</td>\n",
              "      <td>4.244684</td>\n",
              "      <td>3</td>\n",
              "      <td>2</td>\n",
              "      <td>False</td>\n",
              "      <td>False</td>\n",
              "      <td>False</td>\n",
              "      <td>False</td>\n",
              "      <td>com</td>\n",
              "      <td>0</td>\n",
              "    </tr>\n",
              "    <tr>\n",
              "      <th>1</th>\n",
              "      <td>[http://chinesevie.com/index.php?option=com_co...</td>\n",
              "      <td>http</td>\n",
              "      <td>81</td>\n",
              "      <td>10</td>\n",
              "      <td>14</td>\n",
              "      <td>False</td>\n",
              "      <td>False</td>\n",
              "      <td>0</td>\n",
              "      <td>4</td>\n",
              "      <td>0</td>\n",
              "      <td>...</td>\n",
              "      <td>0</td>\n",
              "      <td>4.400942</td>\n",
              "      <td>2</td>\n",
              "      <td>2</td>\n",
              "      <td>False</td>\n",
              "      <td>False</td>\n",
              "      <td>False</td>\n",
              "      <td>True</td>\n",
              "      <td>com</td>\n",
              "      <td>1</td>\n",
              "    </tr>\n",
              "    <tr>\n",
              "      <th>2</th>\n",
              "      <td>[http://pantip.com/tag/%E0%B8%81%E0%B8%B2%E0%B...</td>\n",
              "      <td>http</td>\n",
              "      <td>118</td>\n",
              "      <td>101</td>\n",
              "      <td>10</td>\n",
              "      <td>False</td>\n",
              "      <td>False</td>\n",
              "      <td>31</td>\n",
              "      <td>0</td>\n",
              "      <td>0</td>\n",
              "      <td>...</td>\n",
              "      <td>26</td>\n",
              "      <td>3.992968</td>\n",
              "      <td>3</td>\n",
              "      <td>1</td>\n",
              "      <td>False</td>\n",
              "      <td>False</td>\n",
              "      <td>False</td>\n",
              "      <td>False</td>\n",
              "      <td>com</td>\n",
              "      <td>0</td>\n",
              "    </tr>\n",
              "    <tr>\n",
              "      <th>3</th>\n",
              "      <td>[http://codecanyon.net/item/global-gallery-ove...</td>\n",
              "      <td>http</td>\n",
              "      <td>93</td>\n",
              "      <td>72</td>\n",
              "      <td>14</td>\n",
              "      <td>False</td>\n",
              "      <td>False</td>\n",
              "      <td>8</td>\n",
              "      <td>0</td>\n",
              "      <td>0</td>\n",
              "      <td>...</td>\n",
              "      <td>0</td>\n",
              "      <td>4.588726</td>\n",
              "      <td>5</td>\n",
              "      <td>1</td>\n",
              "      <td>False</td>\n",
              "      <td>False</td>\n",
              "      <td>False</td>\n",
              "      <td>False</td>\n",
              "      <td>net</td>\n",
              "      <td>0</td>\n",
              "    </tr>\n",
              "    <tr>\n",
              "      <th>4</th>\n",
              "      <td>[http://thenextweb.com/facebook/2015/03/26/fac...</td>\n",
              "      <td>http</td>\n",
              "      <td>83</td>\n",
              "      <td>62</td>\n",
              "      <td>14</td>\n",
              "      <td>False</td>\n",
              "      <td>False</td>\n",
              "      <td>14</td>\n",
              "      <td>0</td>\n",
              "      <td>0</td>\n",
              "      <td>...</td>\n",
              "      <td>0</td>\n",
              "      <td>4.681722</td>\n",
              "      <td>7</td>\n",
              "      <td>2</td>\n",
              "      <td>False</td>\n",
              "      <td>False</td>\n",
              "      <td>False</td>\n",
              "      <td>False</td>\n",
              "      <td>com</td>\n",
              "      <td>0</td>\n",
              "    </tr>\n",
              "  </tbody>\n",
              "</table>\n",
              "<p>5 rows × 21 columns</p>\n",
              "</div>\n",
              "      <button class=\"colab-df-convert\" onclick=\"convertToInteractive('df-817f47a7-ce0d-41b7-a188-791faa08e09e')\"\n",
              "              title=\"Convert this dataframe to an interactive table.\"\n",
              "              style=\"display:none;\">\n",
              "        \n",
              "  <svg xmlns=\"http://www.w3.org/2000/svg\" height=\"24px\"viewBox=\"0 0 24 24\"\n",
              "       width=\"24px\">\n",
              "    <path d=\"M0 0h24v24H0V0z\" fill=\"none\"/>\n",
              "    <path d=\"M18.56 5.44l.94 2.06.94-2.06 2.06-.94-2.06-.94-.94-2.06-.94 2.06-2.06.94zm-11 1L8.5 8.5l.94-2.06 2.06-.94-2.06-.94L8.5 2.5l-.94 2.06-2.06.94zm10 10l.94 2.06.94-2.06 2.06-.94-2.06-.94-.94-2.06-.94 2.06-2.06.94z\"/><path d=\"M17.41 7.96l-1.37-1.37c-.4-.4-.92-.59-1.43-.59-.52 0-1.04.2-1.43.59L10.3 9.45l-7.72 7.72c-.78.78-.78 2.05 0 2.83L4 21.41c.39.39.9.59 1.41.59.51 0 1.02-.2 1.41-.59l7.78-7.78 2.81-2.81c.8-.78.8-2.07 0-2.86zM5.41 20L4 18.59l7.72-7.72 1.47 1.35L5.41 20z\"/>\n",
              "  </svg>\n",
              "      </button>\n",
              "      \n",
              "  <style>\n",
              "    .colab-df-container {\n",
              "      display:flex;\n",
              "      flex-wrap:wrap;\n",
              "      gap: 12px;\n",
              "    }\n",
              "\n",
              "    .colab-df-convert {\n",
              "      background-color: #E8F0FE;\n",
              "      border: none;\n",
              "      border-radius: 50%;\n",
              "      cursor: pointer;\n",
              "      display: none;\n",
              "      fill: #1967D2;\n",
              "      height: 32px;\n",
              "      padding: 0 0 0 0;\n",
              "      width: 32px;\n",
              "    }\n",
              "\n",
              "    .colab-df-convert:hover {\n",
              "      background-color: #E2EBFA;\n",
              "      box-shadow: 0px 1px 2px rgba(60, 64, 67, 0.3), 0px 1px 3px 1px rgba(60, 64, 67, 0.15);\n",
              "      fill: #174EA6;\n",
              "    }\n",
              "\n",
              "    [theme=dark] .colab-df-convert {\n",
              "      background-color: #3B4455;\n",
              "      fill: #D2E3FC;\n",
              "    }\n",
              "\n",
              "    [theme=dark] .colab-df-convert:hover {\n",
              "      background-color: #434B5C;\n",
              "      box-shadow: 0px 1px 3px 1px rgba(0, 0, 0, 0.15);\n",
              "      filter: drop-shadow(0px 1px 2px rgba(0, 0, 0, 0.3));\n",
              "      fill: #FFFFFF;\n",
              "    }\n",
              "  </style>\n",
              "\n",
              "      <script>\n",
              "        const buttonEl =\n",
              "          document.querySelector('#df-817f47a7-ce0d-41b7-a188-791faa08e09e button.colab-df-convert');\n",
              "        buttonEl.style.display =\n",
              "          google.colab.kernel.accessAllowed ? 'block' : 'none';\n",
              "\n",
              "        async function convertToInteractive(key) {\n",
              "          const element = document.querySelector('#df-817f47a7-ce0d-41b7-a188-791faa08e09e');\n",
              "          const dataTable =\n",
              "            await google.colab.kernel.invokeFunction('convertToInteractive',\n",
              "                                                     [key], {});\n",
              "          if (!dataTable) return;\n",
              "\n",
              "          const docLinkHtml = 'Like what you see? Visit the ' +\n",
              "            '<a target=\"_blank\" href=https://colab.research.google.com/notebooks/data_table.ipynb>data table notebook</a>'\n",
              "            + ' to learn more about interactive tables.';\n",
              "          element.innerHTML = '';\n",
              "          dataTable['output_type'] = 'display_data';\n",
              "          await google.colab.output.renderOutput(dataTable, element);\n",
              "          const docLink = document.createElement('div');\n",
              "          docLink.innerHTML = docLinkHtml;\n",
              "          element.appendChild(docLink);\n",
              "        }\n",
              "      </script>\n",
              "    </div>\n",
              "  </div>\n",
              "  "
            ]
          },
          "metadata": {},
          "execution_count": 35
        }
      ]
    },
    {
      "cell_type": "code",
      "source": [
        "# check dataframe information (column datatypes, # of missing values, etc.)\n",
        "df.info()"
      ],
      "metadata": {
        "colab": {
          "base_uri": "https://localhost:8080/"
        },
        "id": "suqu0Jt8EO2t",
        "outputId": "4452cdab-96e8-4bc7-ffb5-77075a5888f2"
      },
      "execution_count": 36,
      "outputs": [
        {
          "output_type": "stream",
          "name": "stdout",
          "text": [
            "<class 'pandas.core.frame.DataFrame'>\n",
            "RangeIndex: 46944 entries, 0 to 46943\n",
            "Data columns (total 21 columns):\n",
            " #   Column                    Non-Null Count  Dtype  \n",
            "---  ------                    --------------  -----  \n",
            " 0   url                       46944 non-null  object \n",
            " 1   url_scheme                46944 non-null  object \n",
            " 2   url_length                46944 non-null  int64  \n",
            " 3   url_path_length           46944 non-null  int64  \n",
            " 4   url_host_length           46944 non-null  int64  \n",
            " 5   url_host_is_ip            46944 non-null  bool   \n",
            " 6   url_has_port_in_string    46944 non-null  bool   \n",
            " 7   number_of_digits          46944 non-null  int64  \n",
            " 8   number_of_parameters      46944 non-null  int64  \n",
            " 9   number_of_fragments       46944 non-null  int64  \n",
            " 10  is_encoded                46944 non-null  bool   \n",
            " 11  num_encoded_char          46944 non-null  int64  \n",
            " 12  url_string_entropy        46944 non-null  float64\n",
            " 13  number_of_subdirectories  46944 non-null  int64  \n",
            " 14  number_of_periods         46944 non-null  int64  \n",
            " 15  has_client_in_string      46944 non-null  bool   \n",
            " 16  has_admin_in_string       46944 non-null  bool   \n",
            " 17  has_server_in_string      46944 non-null  bool   \n",
            " 18  has_login_in_string       46944 non-null  bool   \n",
            " 19  tld                       46944 non-null  object \n",
            " 20  class                     46944 non-null  int64  \n",
            "dtypes: bool(7), float64(1), int64(10), object(3)\n",
            "memory usage: 5.3+ MB\n"
          ]
        }
      ]
    },
    {
      "cell_type": "code",
      "source": [
        "import matplotlib.pyplot as plt\n",
        "import seaborn as sns\n",
        "\n",
        "# malware (1) v benign (0) URLs distribution\n",
        "sns.countplot(data=df, x=\"class\")"
      ],
      "metadata": {
        "colab": {
          "base_uri": "https://localhost:8080/",
          "height": 296
        },
        "id": "FELPxDOlBzTG",
        "outputId": "48fa0307-bdd1-4664-cad5-304f7d0babf9"
      },
      "execution_count": 37,
      "outputs": [
        {
          "output_type": "execute_result",
          "data": {
            "text/plain": [
              "<matplotlib.axes._subplots.AxesSubplot at 0x7f6829b655d0>"
            ]
          },
          "metadata": {},
          "execution_count": 37
        },
        {
          "output_type": "display_data",
          "data": {
            "text/plain": [
              "<Figure size 432x288 with 1 Axes>"
            ],
            "image/png": "[encoded data removed]"
          },
          "metadata": {
            "needs_background": "light"
          }
        }
      ]
    },
    {
      "cell_type": "code",
      "source": [
        "# replace True or False values by 1 and 0, respectively\n",
        "\n",
        "mask = df.select_dtypes(include='bool').columns\n",
        "df.loc[:, mask] = df.loc[:, mask].replace({True: 1, False: 0})\n",
        "df"
      ],
      "metadata": {
        "colab": {
          "base_uri": "https://localhost:8080/",
          "height": 488
        },
        "id": "jKulsCMUDd3K",
        "outputId": "bca34f42-5382-45c4-95e4-c9440cbefdc8"
      },
      "execution_count": 38,
      "outputs": [
        {
          "output_type": "execute_result",
          "data": {
            "text/plain": [
              "                                                     url url_scheme  \\\n",
              "0      [http://yourlust.com/videos/chubby-dutch-honey...       http   \n",
              "1      [http://chinesevie.com/index.php?option=com_co...       http   \n",
              "2      [http://pantip.com/tag/%E0%B8%81%E0%B8%B2%E0%B...       http   \n",
              "3      [http://codecanyon.net/item/global-gallery-ove...       http   \n",
              "4      [http://thenextweb.com/facebook/2015/03/26/fac...       http   \n",
              "...                                                  ...        ...   \n",
              "46939  [http://www.114633.com/app/member/BrowseSport/...       http   \n",
              "46940  [http://grasslandhotel.com.vn/index.php/tours/...       http   \n",
              "46941  [http://windows.microsoft.com/en-us/internet-e...       http   \n",
              "46942  [http://chinacxyy.com/newscodejs.asp?lm2=199&l...       http   \n",
              "46943  [http://haishundl.com/a/qinpengqipaiguanfangxi...       http   \n",
              "\n",
              "       url_length  url_path_length  url_host_length  url_host_is_ip  \\\n",
              "0              93               74               12               0   \n",
              "1              81               10               14               0   \n",
              "2             118              101               10               0   \n",
              "3              93               72               14               0   \n",
              "4              83               62               14               0   \n",
              "...           ...              ...              ...             ...   \n",
              "46939          89               34               14               0   \n",
              "46940          72               44               21               0   \n",
              "46941          77               49               21               0   \n",
              "46942         170               15               13               0   \n",
              "46943          67               47               13               0   \n",
              "\n",
              "       url_has_port_in_string  number_of_digits  number_of_parameters  \\\n",
              "0                           0                 0                     0   \n",
              "1                           0                 0                     4   \n",
              "2                           0                31                     0   \n",
              "3                           0                 8                     0   \n",
              "4                           0                14                     0   \n",
              "...                       ...               ...                   ...   \n",
              "46939                       0                 6                     3   \n",
              "46940                       0                 0                     0   \n",
              "46941                       0                 1                     0   \n",
              "46942                       0                25                    19   \n",
              "46943                       0                11                     0   \n",
              "\n",
              "       number_of_fragments  ...  num_encoded_char  url_string_entropy  \\\n",
              "0                        0  ...                 0            4.244684   \n",
              "1                        0  ...                 0            4.400942   \n",
              "2                        0  ...                26            3.992968   \n",
              "3                        0  ...                 0            4.588726   \n",
              "4                        0  ...                 0            4.681722   \n",
              "...                    ...  ...               ...                 ...   \n",
              "46939                    0  ...                 0            4.534338   \n",
              "46940                    0  ...                 0            4.387445   \n",
              "46941                    0  ...                 0            4.335911   \n",
              "46942                    0  ...                 0            4.554088   \n",
              "46943                    0  ...                 0            4.524295   \n",
              "\n",
              "       number_of_subdirectories  number_of_periods  has_client_in_string  \\\n",
              "0                             3                  2                     0   \n",
              "1                             2                  2                     0   \n",
              "2                             3                  1                     0   \n",
              "3                             5                  1                     0   \n",
              "4                             7                  2                     0   \n",
              "...                         ...                ...                   ...   \n",
              "46939                         5                  3                     0   \n",
              "46940                         6                  4                     0   \n",
              "46941                         4                  2                     0   \n",
              "46942                         2                  3                     0   \n",
              "46943                         5                  2                     0   \n",
              "\n",
              "       has_admin_in_string  has_server_in_string  has_login_in_string  tld  \\\n",
              "0                        0                     0                    0  com   \n",
              "1                        0                     0                    1  com   \n",
              "2                        0                     0                    0  com   \n",
              "3                        0                     0                    0  net   \n",
              "4                        0                     0                    0  com   \n",
              "...                    ...                   ...                  ...  ...   \n",
              "46939                    0                     0                    0  com   \n",
              "46940                    0                     0                    0   vn   \n",
              "46941                    0                     0                    0  com   \n",
              "46942                    0                     0                    0  com   \n",
              "46943                    0                     0                    0  com   \n",
              "\n",
              "      class  \n",
              "0         0  \n",
              "1         1  \n",
              "2         0  \n",
              "3         0  \n",
              "4         0  \n",
              "...     ...  \n",
              "46939     1  \n",
              "46940     1  \n",
              "46941     1  \n",
              "46942     1  \n",
              "46943     1  \n",
              "\n",
              "[46944 rows x 21 columns]"
            ],
            "text/html": [
              "\n",
              "  <div id=\"df-7ac67118-e1a3-497b-8c2e-08e3c680ef52\">\n",
              "    <div class=\"colab-df-container\">\n",
              "      <div>\n",
              "<style scoped>\n",
              "    .dataframe tbody tr th:only-of-type {\n",
              "        vertical-align: middle;\n",
              "    }\n",
              "\n",
              "    .dataframe tbody tr th {\n",
              "        vertical-align: top;\n",
              "    }\n",
              "\n",
              "    .dataframe thead th {\n",
              "        text-align: right;\n",
              "    }\n",
              "</style>\n",
              "<table border=\"1\" class=\"dataframe\">\n",
              "  <thead>\n",
              "    <tr style=\"text-align: right;\">\n",
              "      <th></th>\n",
              "      <th>url</th>\n",
              "      <th>url_scheme</th>\n",
              "      <th>url_length</th>\n",
              "      <th>url_path_length</th>\n",
              "      <th>url_host_length</th>\n",
              "      <th>url_host_is_ip</th>\n",
              "      <th>url_has_port_in_string</th>\n",
              "      <th>number_of_digits</th>\n",
              "      <th>number_of_parameters</th>\n",
              "      <th>number_of_fragments</th>\n",
              "      <th>...</th>\n",
              "      <th>num_encoded_char</th>\n",
              "      <th>url_string_entropy</th>\n",
              "      <th>number_of_subdirectories</th>\n",
              "      <th>number_of_periods</th>\n",
              "      <th>has_client_in_string</th>\n",
              "      <th>has_admin_in_string</th>\n",
              "      <th>has_server_in_string</th>\n",
              "      <th>has_login_in_string</th>\n",
              "      <th>tld</th>\n",
              "      <th>class</th>\n",
              "    </tr>\n",
              "  </thead>\n",
              "  <tbody>\n",
              "    <tr>\n",
              "      <th>0</th>\n",
              "      <td>[http://yourlust.com/videos/chubby-dutch-honey...</td>\n",
              "      <td>http</td>\n",
              "      <td>93</td>\n",
              "      <td>74</td>\n",
              "      <td>12</td>\n",
              "      <td>0</td>\n",
              "      <td>0</td>\n",
              "      <td>0</td>\n",
              "      <td>0</td>\n",
              "      <td>0</td>\n",
              "      <td>...</td>\n",
              "      <td>0</td>\n",
              "      <td>4.244684</td>\n",
              "      <td>3</td>\n",
              "      <td>2</td>\n",
              "      <td>0</td>\n",
              "      <td>0</td>\n",
              "      <td>0</td>\n",
              "      <td>0</td>\n",
              "      <td>com</td>\n",
              "      <td>0</td>\n",
              "    </tr>\n",
              "    <tr>\n",
              "      <th>1</th>\n",
              "      <td>[http://chinesevie.com/index.php?option=com_co...</td>\n",
              "      <td>http</td>\n",
              "      <td>81</td>\n",
              "      <td>10</td>\n",
              "      <td>14</td>\n",
              "      <td>0</td>\n",
              "      <td>0</td>\n",
              "      <td>0</td>\n",
              "      <td>4</td>\n",
              "      <td>0</td>\n",
              "      <td>...</td>\n",
              "      <td>0</td>\n",
              "      <td>4.400942</td>\n",
              "      <td>2</td>\n",
              "      <td>2</td>\n",
              "      <td>0</td>\n",
              "      <td>0</td>\n",
              "      <td>0</td>\n",
              "      <td>1</td>\n",
              "      <td>com</td>\n",
              "      <td>1</td>\n",
              "    </tr>\n",
              "    <tr>\n",
              "      <th>2</th>\n",
              "      <td>[http://pantip.com/tag/%E0%B8%81%E0%B8%B2%E0%B...</td>\n",
              "      <td>http</td>\n",
              "      <td>118</td>\n",
              "      <td>101</td>\n",
              "      <td>10</td>\n",
              "      <td>0</td>\n",
              "      <td>0</td>\n",
              "      <td>31</td>\n",
              "      <td>0</td>\n",
              "      <td>0</td>\n",
              "      <td>...</td>\n",
              "      <td>26</td>\n",
              "      <td>3.992968</td>\n",
              "      <td>3</td>\n",
              "      <td>1</td>\n",
              "      <td>0</td>\n",
              "      <td>0</td>\n",
              "      <td>0</td>\n",
              "      <td>0</td>\n",
              "      <td>com</td>\n",
              "      <td>0</td>\n",
              "    </tr>\n",
              "    <tr>\n",
              "      <th>3</th>\n",
              "      <td>[http://codecanyon.net/item/global-gallery-ove...</td>\n",
              "      <td>http</td>\n",
              "      <td>93</td>\n",
              "      <td>72</td>\n",
              "      <td>14</td>\n",
              "      <td>0</td>\n",
              "      <td>0</td>\n",
              "      <td>8</td>\n",
              "      <td>0</td>\n",
              "      <td>0</td>\n",
              "      <td>...</td>\n",
              "      <td>0</td>\n",
              "      <td>4.588726</td>\n",
              "      <td>5</td>\n",
              "      <td>1</td>\n",
              "      <td>0</td>\n",
              "      <td>0</td>\n",
              "      <td>0</td>\n",
              "      <td>0</td>\n",
              "      <td>net</td>\n",
              "      <td>0</td>\n",
              "    </tr>\n",
              "    <tr>\n",
              "      <th>4</th>\n",
              "      <td>[http://thenextweb.com/facebook/2015/03/26/fac...</td>\n",
              "      <td>http</td>\n",
              "      <td>83</td>\n",
              "      <td>62</td>\n",
              "      <td>14</td>\n",
              "      <td>0</td>\n",
              "      <td>0</td>\n",
              "      <td>14</td>\n",
              "      <td>0</td>\n",
              "      <td>0</td>\n",
              "      <td>...</td>\n",
              "      <td>0</td>\n",
              "      <td>4.681722</td>\n",
              "      <td>7</td>\n",
              "      <td>2</td>\n",
              "      <td>0</td>\n",
              "      <td>0</td>\n",
              "      <td>0</td>\n",
              "      <td>0</td>\n",
              "      <td>com</td>\n",
              "      <td>0</td>\n",
              "    </tr>\n",
              "    <tr>\n",
              "      <th>...</th>\n",
              "      <td>...</td>\n",
              "      <td>...</td>\n",
              "      <td>...</td>\n",
              "      <td>...</td>\n",
              "      <td>...</td>\n",
              "      <td>...</td>\n",
              "      <td>...</td>\n",
              "      <td>...</td>\n",
              "      <td>...</td>\n",
              "      <td>...</td>\n",
              "      <td>...</td>\n",
              "      <td>...</td>\n",
              "      <td>...</td>\n",
              "      <td>...</td>\n",
              "      <td>...</td>\n",
              "      <td>...</td>\n",
              "      <td>...</td>\n",
              "      <td>...</td>\n",
              "      <td>...</td>\n",
              "      <td>...</td>\n",
              "      <td>...</td>\n",
              "    </tr>\n",
              "    <tr>\n",
              "      <th>46939</th>\n",
              "      <td>[http://www.114633.com/app/member/BrowseSport/...</td>\n",
              "      <td>http</td>\n",
              "      <td>89</td>\n",
              "      <td>34</td>\n",
              "      <td>14</td>\n",
              "      <td>0</td>\n",
              "      <td>0</td>\n",
              "      <td>6</td>\n",
              "      <td>3</td>\n",
              "      <td>0</td>\n",
              "      <td>...</td>\n",
              "      <td>0</td>\n",
              "      <td>4.534338</td>\n",
              "      <td>5</td>\n",
              "      <td>3</td>\n",
              "      <td>0</td>\n",
              "      <td>0</td>\n",
              "      <td>0</td>\n",
              "      <td>0</td>\n",
              "      <td>com</td>\n",
              "      <td>1</td>\n",
              "    </tr>\n",
              "    <tr>\n",
              "      <th>46940</th>\n",
              "      <td>[http://grasslandhotel.com.vn/index.php/tours/...</td>\n",
              "      <td>http</td>\n",
              "      <td>72</td>\n",
              "      <td>44</td>\n",
              "      <td>21</td>\n",
              "      <td>0</td>\n",
              "      <td>0</td>\n",
              "      <td>0</td>\n",
              "      <td>0</td>\n",
              "      <td>0</td>\n",
              "      <td>...</td>\n",
              "      <td>0</td>\n",
              "      <td>4.387445</td>\n",
              "      <td>6</td>\n",
              "      <td>4</td>\n",
              "      <td>0</td>\n",
              "      <td>0</td>\n",
              "      <td>0</td>\n",
              "      <td>0</td>\n",
              "      <td>vn</td>\n",
              "      <td>1</td>\n",
              "    </tr>\n",
              "    <tr>\n",
              "      <th>46941</th>\n",
              "      <td>[http://windows.microsoft.com/en-us/internet-e...</td>\n",
              "      <td>http</td>\n",
              "      <td>77</td>\n",
              "      <td>49</td>\n",
              "      <td>21</td>\n",
              "      <td>0</td>\n",
              "      <td>0</td>\n",
              "      <td>1</td>\n",
              "      <td>0</td>\n",
              "      <td>0</td>\n",
              "      <td>...</td>\n",
              "      <td>0</td>\n",
              "      <td>4.335911</td>\n",
              "      <td>4</td>\n",
              "      <td>2</td>\n",
              "      <td>0</td>\n",
              "      <td>0</td>\n",
              "      <td>0</td>\n",
              "      <td>0</td>\n",
              "      <td>com</td>\n",
              "      <td>1</td>\n",
              "    </tr>\n",
              "    <tr>\n",
              "      <th>46942</th>\n",
              "      <td>[http://chinacxyy.com/newscodejs.asp?lm2=199&amp;l...</td>\n",
              "      <td>http</td>\n",
              "      <td>170</td>\n",
              "      <td>15</td>\n",
              "      <td>13</td>\n",
              "      <td>0</td>\n",
              "      <td>0</td>\n",
              "      <td>25</td>\n",
              "      <td>19</td>\n",
              "      <td>0</td>\n",
              "      <td>...</td>\n",
              "      <td>0</td>\n",
              "      <td>4.554088</td>\n",
              "      <td>2</td>\n",
              "      <td>3</td>\n",
              "      <td>0</td>\n",
              "      <td>0</td>\n",
              "      <td>0</td>\n",
              "      <td>0</td>\n",
              "      <td>com</td>\n",
              "      <td>1</td>\n",
              "    </tr>\n",
              "    <tr>\n",
              "      <th>46943</th>\n",
              "      <td>[http://haishundl.com/a/qinpengqipaiguanfangxi...</td>\n",
              "      <td>http</td>\n",
              "      <td>67</td>\n",
              "      <td>47</td>\n",
              "      <td>13</td>\n",
              "      <td>0</td>\n",
              "      <td>0</td>\n",
              "      <td>11</td>\n",
              "      <td>0</td>\n",
              "      <td>0</td>\n",
              "      <td>...</td>\n",
              "      <td>0</td>\n",
              "      <td>4.524295</td>\n",
              "      <td>5</td>\n",
              "      <td>2</td>\n",
              "      <td>0</td>\n",
              "      <td>0</td>\n",
              "      <td>0</td>\n",
              "      <td>0</td>\n",
              "      <td>com</td>\n",
              "      <td>1</td>\n",
              "    </tr>\n",
              "  </tbody>\n",
              "</table>\n",
              "<p>46944 rows × 21 columns</p>\n",
              "</div>\n",
              "      <button class=\"colab-df-convert\" onclick=\"convertToInteractive('df-7ac67118-e1a3-497b-8c2e-08e3c680ef52')\"\n",
              "              title=\"Convert this dataframe to an interactive table.\"\n",
              "              style=\"display:none;\">\n",
              "        \n",
              "  <svg xmlns=\"http://www.w3.org/2000/svg\" height=\"24px\"viewBox=\"0 0 24 24\"\n",
              "       width=\"24px\">\n",
              "    <path d=\"M0 0h24v24H0V0z\" fill=\"none\"/>\n",
              "    <path d=\"M18.56 5.44l.94 2.06.94-2.06 2.06-.94-2.06-.94-.94-2.06-.94 2.06-2.06.94zm-11 1L8.5 8.5l.94-2.06 2.06-.94-2.06-.94L8.5 2.5l-.94 2.06-2.06.94zm10 10l.94 2.06.94-2.06 2.06-.94-2.06-.94-.94-2.06-.94 2.06-2.06.94z\"/><path d=\"M17.41 7.96l-1.37-1.37c-.4-.4-.92-.59-1.43-.59-.52 0-1.04.2-1.43.59L10.3 9.45l-7.72 7.72c-.78.78-.78 2.05 0 2.83L4 21.41c.39.39.9.59 1.41.59.51 0 1.02-.2 1.41-.59l7.78-7.78 2.81-2.81c.8-.78.8-2.07 0-2.86zM5.41 20L4 18.59l7.72-7.72 1.47 1.35L5.41 20z\"/>\n",
              "  </svg>\n",
              "      </button>\n",
              "      \n",
              "  <style>\n",
              "    .colab-df-container {\n",
              "      display:flex;\n",
              "      flex-wrap:wrap;\n",
              "      gap: 12px;\n",
              "    }\n",
              "\n",
              "    .colab-df-convert {\n",
              "      background-color: #E8F0FE;\n",
              "      border: none;\n",
              "      border-radius: 50%;\n",
              "      cursor: pointer;\n",
              "      display: none;\n",
              "      fill: #1967D2;\n",
              "      height: 32px;\n",
              "      padding: 0 0 0 0;\n",
              "      width: 32px;\n",
              "    }\n",
              "\n",
              "    .colab-df-convert:hover {\n",
              "      background-color: #E2EBFA;\n",
              "      box-shadow: 0px 1px 2px rgba(60, 64, 67, 0.3), 0px 1px 3px 1px rgba(60, 64, 67, 0.15);\n",
              "      fill: #174EA6;\n",
              "    }\n",
              "\n",
              "    [theme=dark] .colab-df-convert {\n",
              "      background-color: #3B4455;\n",
              "      fill: #D2E3FC;\n",
              "    }\n",
              "\n",
              "    [theme=dark] .colab-df-convert:hover {\n",
              "      background-color: #434B5C;\n",
              "      box-shadow: 0px 1px 3px 1px rgba(0, 0, 0, 0.15);\n",
              "      filter: drop-shadow(0px 1px 2px rgba(0, 0, 0, 0.3));\n",
              "      fill: #FFFFFF;\n",
              "    }\n",
              "  </style>\n",
              "\n",
              "      <script>\n",
              "        const buttonEl =\n",
              "          document.querySelector('#df-7ac67118-e1a3-497b-8c2e-08e3c680ef52 button.colab-df-convert');\n",
              "        buttonEl.style.display =\n",
              "          google.colab.kernel.accessAllowed ? 'block' : 'none';\n",
              "\n",
              "        async function convertToInteractive(key) {\n",
              "          const element = document.querySelector('#df-7ac67118-e1a3-497b-8c2e-08e3c680ef52');\n",
              "          const dataTable =\n",
              "            await google.colab.kernel.invokeFunction('convertToInteractive',\n",
              "                                                     [key], {});\n",
              "          if (!dataTable) return;\n",
              "\n",
              "          const docLinkHtml = 'Like what you see? Visit the ' +\n",
              "            '<a target=\"_blank\" href=https://colab.research.google.com/notebooks/data_table.ipynb>data table notebook</a>'\n",
              "            + ' to learn more about interactive tables.';\n",
              "          element.innerHTML = '';\n",
              "          dataTable['output_type'] = 'display_data';\n",
              "          await google.colab.output.renderOutput(dataTable, element);\n",
              "          const docLink = document.createElement('div');\n",
              "          docLink.innerHTML = docLinkHtml;\n",
              "          element.appendChild(docLink);\n",
              "        }\n",
              "      </script>\n",
              "    </div>\n",
              "  </div>\n",
              "  "
            ]
          },
          "metadata": {},
          "execution_count": 38
        }
      ]
    },
    {
      "cell_type": "code",
      "source": [
        "df.info()"
      ],
      "metadata": {
        "colab": {
          "base_uri": "https://localhost:8080/"
        },
        "id": "0pPzxdWbJq93",
        "outputId": "61bae6ac-6ac2-4dfd-bfe3-5680eab56d6c"
      },
      "execution_count": 39,
      "outputs": [
        {
          "output_type": "stream",
          "name": "stdout",
          "text": [
            "<class 'pandas.core.frame.DataFrame'>\n",
            "RangeIndex: 46944 entries, 0 to 46943\n",
            "Data columns (total 21 columns):\n",
            " #   Column                    Non-Null Count  Dtype  \n",
            "---  ------                    --------------  -----  \n",
            " 0   url                       46944 non-null  object \n",
            " 1   url_scheme                46944 non-null  object \n",
            " 2   url_length                46944 non-null  int64  \n",
            " 3   url_path_length           46944 non-null  int64  \n",
            " 4   url_host_length           46944 non-null  int64  \n",
            " 5   url_host_is_ip            46944 non-null  int64  \n",
            " 6   url_has_port_in_string    46944 non-null  int64  \n",
            " 7   number_of_digits          46944 non-null  int64  \n",
            " 8   number_of_parameters      46944 non-null  int64  \n",
            " 9   number_of_fragments       46944 non-null  int64  \n",
            " 10  is_encoded                46944 non-null  int64  \n",
            " 11  num_encoded_char          46944 non-null  int64  \n",
            " 12  url_string_entropy        46944 non-null  float64\n",
            " 13  number_of_subdirectories  46944 non-null  int64  \n",
            " 14  number_of_periods         46944 non-null  int64  \n",
            " 15  has_client_in_string      46944 non-null  int64  \n",
            " 16  has_admin_in_string       46944 non-null  int64  \n",
            " 17  has_server_in_string      46944 non-null  int64  \n",
            " 18  has_login_in_string       46944 non-null  int64  \n",
            " 19  tld                       46944 non-null  object \n",
            " 20  class                     46944 non-null  int64  \n",
            "dtypes: float64(1), int64(17), object(3)\n",
            "memory usage: 7.5+ MB\n"
          ]
        }
      ]
    },
    {
      "cell_type": "code",
      "source": [
        "# train-test-split\n",
        "from sklearn.model_selection import train_test_split\n",
        "\n",
        "X = df.drop([\"url\", \"class\"], axis=1)\n",
        "y = df.loc[:, \"class\"]\n",
        "\n",
        "X_train, X_test, y_train, y_test = train_test_split(X, y, test_size=0.20, random_state=42, shuffle=True)\n",
        "\n",
        "print(\"X_train.shape: {}\".format(X_train.shape))\n",
        "print(\"X_test.shape: {}\".format(X_test.shape))"
      ],
      "metadata": {
        "colab": {
          "base_uri": "https://localhost:8080/"
        },
        "id": "knbtMAZjKYjS",
        "outputId": "5698b188-2463-4d68-d23c-476802f72468"
      },
      "execution_count": 40,
      "outputs": [
        {
          "output_type": "stream",
          "name": "stdout",
          "text": [
            "X_train.shape: (37555, 19)\n",
            "X_test.shape: (9389, 19)\n"
          ]
        }
      ]
    },
    {
      "cell_type": "code",
      "source": [
        "y_train.value_counts(normalize=True)"
      ],
      "metadata": {
        "colab": {
          "base_uri": "https://localhost:8080/"
        },
        "id": "0SmXrp0lPSZd",
        "outputId": "dda5064f-d012-48b7-8b71-cd024d249290"
      },
      "execution_count": 41,
      "outputs": [
        {
          "output_type": "execute_result",
          "data": {
            "text/plain": [
              "0    0.753695\n",
              "1    0.246305\n",
              "Name: class, dtype: float64"
            ]
          },
          "metadata": {},
          "execution_count": 41
        }
      ]
    },
    {
      "cell_type": "code",
      "source": [
        "y_test.value_counts(normalize=True)"
      ],
      "metadata": {
        "colab": {
          "base_uri": "https://localhost:8080/"
        },
        "id": "RT6JaVg2PWsT",
        "outputId": "21741a55-e410-4e86-9af4-f2a7bb6a6be5"
      },
      "execution_count": 42,
      "outputs": [
        {
          "output_type": "execute_result",
          "data": {
            "text/plain": [
              "0    0.753328\n",
              "1    0.246672\n",
              "Name: class, dtype: float64"
            ]
          },
          "metadata": {},
          "execution_count": 42
        }
      ]
    },
    {
      "cell_type": "code",
      "source": [
        "X_train.info()"
      ],
      "metadata": {
        "colab": {
          "base_uri": "https://localhost:8080/"
        },
        "id": "zJXxLkDZL0fE",
        "outputId": "18ecee05-f85b-4b99-fd8f-495c62a6361f"
      },
      "execution_count": 43,
      "outputs": [
        {
          "output_type": "stream",
          "name": "stdout",
          "text": [
            "<class 'pandas.core.frame.DataFrame'>\n",
            "Int64Index: 37555 entries, 41530 to 15795\n",
            "Data columns (total 19 columns):\n",
            " #   Column                    Non-Null Count  Dtype  \n",
            "---  ------                    --------------  -----  \n",
            " 0   url_scheme                37555 non-null  object \n",
            " 1   url_length                37555 non-null  int64  \n",
            " 2   url_path_length           37555 non-null  int64  \n",
            " 3   url_host_length           37555 non-null  int64  \n",
            " 4   url_host_is_ip            37555 non-null  int64  \n",
            " 5   url_has_port_in_string    37555 non-null  int64  \n",
            " 6   number_of_digits          37555 non-null  int64  \n",
            " 7   number_of_parameters      37555 non-null  int64  \n",
            " 8   number_of_fragments       37555 non-null  int64  \n",
            " 9   is_encoded                37555 non-null  int64  \n",
            " 10  num_encoded_char          37555 non-null  int64  \n",
            " 11  url_string_entropy        37555 non-null  float64\n",
            " 12  number_of_subdirectories  37555 non-null  int64  \n",
            " 13  number_of_periods         37555 non-null  int64  \n",
            " 14  has_client_in_string      37555 non-null  int64  \n",
            " 15  has_admin_in_string       37555 non-null  int64  \n",
            " 16  has_server_in_string      37555 non-null  int64  \n",
            " 17  has_login_in_string       37555 non-null  int64  \n",
            " 18  tld                       37555 non-null  object \n",
            "dtypes: float64(1), int64(16), object(2)\n",
            "memory usage: 5.7+ MB\n"
          ]
        }
      ]
    },
    {
      "cell_type": "code",
      "source": [
        "from sklearn.pipeline import Pipeline\n",
        "from sklearn.preprocessing import MinMaxScaler\n",
        "from sklearn.impute import SimpleImputer\n",
        "from sklearn.preprocessing import OneHotEncoder\n",
        "from sklearn.compose import ColumnTransformer\n",
        "\n",
        "# fetch numerical and categorical attributes, respectively\n",
        "num_attribs = X_train.select_dtypes(include=[np.int64, np.float64]).columns\n",
        "cat_attribs =  X_train.select_dtypes(include=[object]).columns\n",
        "\n",
        "# transformation pipeline for numerical attributes\n",
        "num_pipeline = Pipeline([\n",
        "  ('minmax_scaler', MinMaxScaler()),\n",
        "])\n",
        "\n",
        "# full transformation pipeline for categorical and numerical attributes\n",
        "full_pipeline = ColumnTransformer([\n",
        "  (\"num\", num_pipeline, num_attribs),\n",
        "  (\"cat\", OneHotEncoder(handle_unknown=\"ignore\"), cat_attribs),\n",
        "])\n",
        "\n",
        "# transform both training and testing datasets\n",
        "X_train_prepared = full_pipeline.fit_transform(X_train)\n",
        "X_test_prepared = full_pipeline.transform(X_test)"
      ],
      "metadata": {
        "id": "H1VLBV6RIBm2"
      },
      "execution_count": 44,
      "outputs": []
    },
    {
      "cell_type": "code",
      "source": [
        "import sklearn\n",
        "sklearn.__version__"
      ],
      "metadata": {
        "colab": {
          "base_uri": "https://localhost:8080/",
          "height": 35
        },
        "id": "FJtXgpnA6X4N",
        "outputId": "ec95331e-7087-4f10-b861-25e29f0e8ed0"
      },
      "execution_count": 45,
      "outputs": [
        {
          "output_type": "execute_result",
          "data": {
            "text/plain": [
              "'1.0.2'"
            ],
            "application/vnd.google.colaboratory.intrinsic+json": {
              "type": "string"
            }
          },
          "metadata": {},
          "execution_count": 45
        }
      ]
    },
    {
      "cell_type": "code",
      "source": [
        "X_test_prepared.shape"
      ],
      "metadata": {
        "colab": {
          "base_uri": "https://localhost:8080/"
        },
        "id": "RHIwK0Wi69cd",
        "outputId": "d09acfcf-f2f9-40c6-c61d-4878fa82d16a"
      },
      "execution_count": 46,
      "outputs": [
        {
          "output_type": "execute_result",
          "data": {
            "text/plain": [
              "(9389, 72)"
            ]
          },
          "metadata": {},
          "execution_count": 46
        }
      ]
    },
    {
      "cell_type": "code",
      "source": [
        "X_train_prepared.shape"
      ],
      "metadata": {
        "colab": {
          "base_uri": "https://localhost:8080/"
        },
        "id": "0KE2aZ3e6-3W",
        "outputId": "723f6d4e-847c-46c2-9cd3-dc7d5840deee"
      },
      "execution_count": 47,
      "outputs": [
        {
          "output_type": "execute_result",
          "data": {
            "text/plain": [
              "(37555, 72)"
            ]
          },
          "metadata": {},
          "execution_count": 47
        }
      ]
    },
    {
      "cell_type": "code",
      "source": [
        "import joblib\n",
        "import os\n",
        "\n",
        "joblib.dump(full_pipeline, os.path.join(WDIR, 'pipeline.pkl'))"
      ],
      "metadata": {
        "colab": {
          "base_uri": "https://localhost:8080/"
        },
        "id": "59fxclC94yMZ",
        "outputId": "060f6216-e75e-4db7-c368-ae09c877f4a5"
      },
      "execution_count": 48,
      "outputs": [
        {
          "output_type": "execute_result",
          "data": {
            "text/plain": [
              "['/content/drive/MyDrive/projects/classical_machine_learning/malware_url_classification/pipeline.pkl']"
            ]
          },
          "metadata": {},
          "execution_count": 48
        }
      ]
    },
    {
      "cell_type": "code",
      "source": [
        "## DecisionTreeClassifier model\n",
        "from sklearn.tree import DecisionTreeClassifier\n",
        "\n",
        "clf_dt = DecisionTreeClassifier(random_state=42)\n",
        "clf_dt.fit(X_train_prepared, y_train)"
      ],
      "metadata": {
        "colab": {
          "base_uri": "https://localhost:8080/"
        },
        "id": "8nOqiyl2M_Ol",
        "outputId": "54da6436-b711-4a3d-9a17-e6360eeb24b8"
      },
      "execution_count": 49,
      "outputs": [
        {
          "output_type": "execute_result",
          "data": {
            "text/plain": [
              "DecisionTreeClassifier(random_state=42)"
            ]
          },
          "metadata": {},
          "execution_count": 49
        }
      ]
    },
    {
      "cell_type": "code",
      "source": [
        "# extract available ccp alphas for pruning\n",
        "\n",
        "path = clf_dt.cost_complexity_pruning_path(X_train_prepared, y_train)\n",
        "ccp_alphas = path.ccp_alphas[:-1]\n",
        "print('Len of ccp_alphas: {}'.format(ccp_alphas.shape))"
      ],
      "metadata": {
        "colab": {
          "base_uri": "https://localhost:8080/"
        },
        "id": "6T_J_SyJRGHq",
        "outputId": "68e28fe2-a6b6-466e-8ad2-8b49e2eb4d29"
      },
      "execution_count": 50,
      "outputs": [
        {
          "output_type": "stream",
          "name": "stdout",
          "text": [
            "Len of ccp_alphas: (121,)\n"
          ]
        }
      ]
    },
    {
      "cell_type": "code",
      "source": [
        "# apply grid search to find optimal value for ccp alpha\n",
        "\n",
        "from sklearn.model_selection import GridSearchCV\n",
        "\n",
        "param_grid = {'ccp_alpha': ccp_alphas}\n",
        "\n",
        "grid_search = GridSearchCV(\n",
        "    DecisionTreeClassifier(), param_grid, cv=10, scoring='balanced_accuracy')\n",
        "\n",
        "grid_search.fit(X_train_prepared, y_train)\n",
        "\n",
        "print(\"Best Parameters: {}\".format(grid_search.best_params_))\n",
        "print(\"Best cross-validation score: {:.2f}\".format(grid_search.best_score_))"
      ],
      "metadata": {
        "colab": {
          "base_uri": "https://localhost:8080/"
        },
        "id": "NyjXkEuyRLHm",
        "outputId": "72f3f331-198d-43bb-c95a-30aa875f1af0"
      },
      "execution_count": 51,
      "outputs": [
        {
          "output_type": "stream",
          "name": "stdout",
          "text": [
            "Best Parameters: {'ccp_alpha': 1.775025998451053e-05}\n",
            "Best cross-validation score: 1.00\n"
          ]
        }
      ]
    },
    {
      "cell_type": "code",
      "source": [
        "# plot results of grid search\n",
        "results = pd.DataFrame(grid_search.cv_results_)\n",
        "fig, ax = plt.subplots(figsize=(10, 4))\n",
        "results.plot(x='param_ccp_alpha', y='mean_test_score', \n",
        "             yerr='std_test_score', marker='o', linestyle='--', ax=ax)"
      ],
      "metadata": {
        "colab": {
          "base_uri": "https://localhost:8080/",
          "height": 297
        },
        "id": "21Drz0BPVtbI",
        "outputId": "943bb9af-2eef-46c1-bcab-3f42c15da94d"
      },
      "execution_count": 52,
      "outputs": [
        {
          "output_type": "execute_result",
          "data": {
            "text/plain": [
              "<matplotlib.axes._subplots.AxesSubplot at 0x7f6828e0d990>"
            ]
          },
          "metadata": {},
          "execution_count": 52
        },
        {
          "output_type": "display_data",
          "data": {
            "text/plain": [
              "<Figure size 720x288 with 1 Axes>"
            ],
            "image/png": "[encoded data removed]"
          },
          "metadata": {
            "needs_background": "light"
          }
        }
      ]
    },
    {
      "cell_type": "code",
      "source": [
        "# train ideal decision tree \n",
        "ideal_ccp_alpha = grid_search.best_params_['ccp_alpha']\n",
        "\n",
        "clf_dt_pruned = DecisionTreeClassifier(random_state=42, ccp_alpha=ideal_ccp_alpha)\n",
        "clf_dt_pruned.fit(X_train_prepared, y_train)"
      ],
      "metadata": {
        "colab": {
          "base_uri": "https://localhost:8080/"
        },
        "id": "svp-o9PNYYp-",
        "outputId": "a2f326dd-baf0-4661-9813-1a2f383f5e40"
      },
      "execution_count": 53,
      "outputs": [
        {
          "output_type": "execute_result",
          "data": {
            "text/plain": [
              "DecisionTreeClassifier(ccp_alpha=1.775025998451053e-05, random_state=42)"
            ]
          },
          "metadata": {},
          "execution_count": 53
        }
      ]
    },
    {
      "cell_type": "code",
      "source": [
        "from sklearn.metrics import ConfusionMatrixDisplay\n",
        "\n",
        "# make predictions on testing dataset\n",
        "y_preds = clf_dt_pruned.predict(X_test_prepared)\n",
        "ConfusionMatrixDisplay.from_predictions(y_test, y_preds)"
      ],
      "metadata": {
        "colab": {
          "base_uri": "https://localhost:8080/",
          "height": 299
        },
        "id": "-CmzjyYiYkOL",
        "outputId": "2b6c487f-c236-4c07-f68f-044a783f21ad"
      },
      "execution_count": 54,
      "outputs": [
        {
          "output_type": "execute_result",
          "data": {
            "text/plain": [
              "<sklearn.metrics._plot.confusion_matrix.ConfusionMatrixDisplay at 0x7f6828cc2d90>"
            ]
          },
          "metadata": {},
          "execution_count": 54
        },
        {
          "output_type": "display_data",
          "data": {
            "text/plain": [
              "<Figure size 432x288 with 2 Axes>"
            ],
            "image/png": "[encoded data removed]"
          },
          "metadata": {
            "needs_background": "light"
          }
        }
      ]
    },
    {
      "cell_type": "code",
      "source": [
        "from sklearn.metrics import classification_report\n",
        "\n",
        "# make classification report on testing dataset\n",
        "print(classification_report(y_test, y_preds))"
      ],
      "metadata": {
        "colab": {
          "base_uri": "https://localhost:8080/"
        },
        "id": "9UwTnOAEd7WE",
        "outputId": "b04b9d61-0b9a-4436-d7d9-15ab37beed8c"
      },
      "execution_count": 55,
      "outputs": [
        {
          "output_type": "stream",
          "name": "stdout",
          "text": [
            "              precision    recall  f1-score   support\n",
            "\n",
            "           0       1.00      1.00      1.00      7073\n",
            "           1       0.99      1.00      0.99      2316\n",
            "\n",
            "    accuracy                           1.00      9389\n",
            "   macro avg       1.00      1.00      1.00      9389\n",
            "weighted avg       1.00      1.00      1.00      9389\n",
            "\n"
          ]
        }
      ]
    },
    {
      "cell_type": "code",
      "source": [
        "from sklearn import tree\n",
        "\n",
        "# plot decision tree model\n",
        "fig, ax = plt.subplots(figsize=(25, 25))\n",
        "_ = tree.plot_tree(clf_dt_pruned, ax=ax)"
      ],
      "metadata": {
        "colab": {
          "base_uri": "https://localhost:8080/",
          "height": 1000
        },
        "id": "topo8HuuY_tK",
        "outputId": "9df76577-c3ef-4233-b9d9-57a4b79d6b9c"
      },
      "execution_count": 56,
      "outputs": [
        {
          "output_type": "display_data",
          "data": {
            "text/plain": [
              "<Figure size 1800x1800 with 1 Axes>"
            ],
            "image/png": "[encoded data removed]"
          },
          "metadata": {
            "needs_background": "light"
          }
        }
      ]
    },
    {
      "cell_type": "code",
      "source": [
        "# plot feature importance\n",
        "\n",
        "def plot_feature_importances_cancer(model):\n",
        "\n",
        " fig, ax = plt.subplots(figsize=(12, 6))\n",
        " mask = model.feature_importances_ > 0\n",
        " f_importance = model.feature_importances_[mask]\n",
        " features = full_pipeline.get_feature_names_out()[mask]\n",
        " n_features = len(features) \n",
        "\n",
        " ax.barh(range(n_features), f_importance, align='center')\n",
        " plt.yticks(range(n_features), features)\n",
        " ax.set_xlabel(\"Feature importance\")\n",
        " ax.set_ylabel(\"Feature\")\n",
        "\n",
        "plot_feature_importances_cancer(clf_dt_pruned)"
      ],
      "metadata": {
        "colab": {
          "base_uri": "https://localhost:8080/",
          "height": 388
        },
        "id": "KGVXUz7YcxJP",
        "outputId": "c3c6ab7c-dd14-4304-868b-11701a8b670f"
      },
      "execution_count": 57,
      "outputs": [
        {
          "output_type": "display_data",
          "data": {
            "text/plain": [
              "<Figure size 864x432 with 1 Axes>"
            ],
            "image/png": "[encoded data removed]"
          },
          "metadata": {
            "needs_background": "light"
          }
        }
      ]
    },
    {
      "cell_type": "code",
      "source": [
        "import joblib\n",
        " \n",
        "# Save the model as a pickle in a file\n",
        "joblib.dump(clf_dt_pruned, f'{WDIR}/model.pkl')"
      ],
      "metadata": {
        "colab": {
          "base_uri": "https://localhost:8080/"
        },
        "id": "7RdKeZw7hXJC",
        "outputId": "cab9e2cb-b964-44b9-ad3c-f24e9d3f65c0"
      },
      "execution_count": 58,
      "outputs": [
        {
          "output_type": "execute_result",
          "data": {
            "text/plain": [
              "['/content/drive/MyDrive/projects/classical_machine_learning/malware_url_classification/model.pkl']"
            ]
          },
          "metadata": {},
          "execution_count": 58
        }
      ]
    },
    {
      "cell_type": "code",
      "source": [
        "from sklearn.linear_model import LogisticRegression\n",
        "\n",
        "logreg = LogisticRegression(max_iter=1000)\n",
        "logreg.fit(X_train_prepared, y_train)"
      ],
      "metadata": {
        "id": "yliJYgVSn8qz",
        "colab": {
          "base_uri": "https://localhost:8080/"
        },
        "outputId": "acd79e18-cd82-4c73-a87a-1d7b50517512"
      },
      "execution_count": 60,
      "outputs": [
        {
          "output_type": "execute_result",
          "data": {
            "text/plain": [
              "LogisticRegression(max_iter=1000)"
            ]
          },
          "metadata": {},
          "execution_count": 60
        }
      ]
    },
    {
      "cell_type": "code",
      "source": [
        "# make predictions on testing dataset\n",
        "y_preds = logreg.predict(X_test_prepared)\n",
        "ConfusionMatrixDisplay.from_predictions(y_test, y_preds)\n",
        "\n",
        "# make classification report on testing dataset\n",
        "print(classification_report(y_test, y_preds))"
      ],
      "metadata": {
        "colab": {
          "base_uri": "https://localhost:8080/",
          "height": 435
        },
        "id": "5EDGbYPl_W9v",
        "outputId": "92b31d0b-0ce0-4d96-f7de-8a2795ddb39a"
      },
      "execution_count": 63,
      "outputs": [
        {
          "output_type": "stream",
          "name": "stdout",
          "text": [
            "              precision    recall  f1-score   support\n",
            "\n",
            "           0       0.93      0.98      0.96      7073\n",
            "           1       0.93      0.78      0.85      2316\n",
            "\n",
            "    accuracy                           0.93      9389\n",
            "   macro avg       0.93      0.88      0.90      9389\n",
            "weighted avg       0.93      0.93      0.93      9389\n",
            "\n"
          ]
        },
        {
          "output_type": "display_data",
          "data": {
            "text/plain": [
              "<Figure size 432x288 with 2 Axes>"
            ],
            "image/png": "[encoded data removed]"
          },
          "metadata": {
            "needs_background": "light"
          }
        }
      ]
    },
    {
      "cell_type": "code",
      "source": [
        "# Save the model as a pickle in a file\n",
        "joblib.dump(logreg, f'{WDIR}/logreg.pkl')"
      ],
      "metadata": {
        "colab": {
          "base_uri": "https://localhost:8080/"
        },
        "id": "3raEvj4C_wKn",
        "outputId": "5073e531-58e4-480a-97d2-f6bfeeefec2d"
      },
      "execution_count": 64,
      "outputs": [
        {
          "output_type": "execute_result",
          "data": {
            "text/plain": [
              "['/content/drive/MyDrive/projects/classical_machine_learning/malware_url_classification/logreg.pkl']"
            ]
          },
          "metadata": {},
          "execution_count": 64
        }
      ]
    },
    {
      "cell_type": "code",
      "source": [
        ""
      ],
      "metadata": {
        "id": "jhHsYKF0AAJJ"
      },
      "execution_count": null,
      "outputs": []
    }
  ]
}